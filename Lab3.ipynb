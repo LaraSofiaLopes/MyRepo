{
  "nbformat": 4,
  "nbformat_minor": 0,
  "metadata": {
    "colab": {
      "name": "Untitled4.ipynb",
      "provenance": [],
      "authorship_tag": "ABX9TyNasbKOAyHxYyVLb8BUXcmZ",
      "include_colab_link": true
    },
    "kernelspec": {
      "name": "python3",
      "display_name": "Python 3"
    }
  },
  "cells": [
    {
      "cell_type": "markdown",
      "metadata": {
        "id": "view-in-github",
        "colab_type": "text"
      },
      "source": [
        "<a href=\"https://colab.research.google.com/github/LaraSofiaLopes/Numerical-Analysis/blob/master/Lab3.ipynb\" target=\"_parent\"><img src=\"https://colab.research.google.com/assets/colab-badge.svg\" alt=\"Open In Colab\"/></a>"
      ]
    },
    {
      "cell_type": "markdown",
      "metadata": {
        "id": "BYyzv_yNjBO6",
        "colab_type": "text"
      },
      "source": [
        "## **LAB 3**"
      ]
    },
    {
      "cell_type": "markdown",
      "metadata": {
        "id": "g7VTGhxjjHfk",
        "colab_type": "text"
      },
      "source": [
        "1)"
      ]
    },
    {
      "cell_type": "code",
      "metadata": {
        "id": "P3h9dc72jOAo",
        "colab_type": "code",
        "outputId": "9564811e-2e49-4224-a2f8-e2bf981c63e4",
        "colab": {
          "base_uri": "https://localhost:8080/",
          "height": 204
        }
      },
      "source": [
        "# Fixed Point Iteration Method\n",
        "# Importing math to use sqrt function\n",
        "import math\n",
        " \n",
        "#approximate sqrt(10)\n",
        "S = 10\n",
        "\n",
        "def f(x):\n",
        "   return (x*x) - S\n",
        "\n",
        "# Re-writing f(x)=0 to x = g(x)\n",
        "def g(x):\n",
        "   return (1/2) * (x + (S/x))\n",
        "\n",
        "# Implementing Fixed Point Iteration Method\n",
        "def fixedPointIteration(x0, e, N):\n",
        "   print('\\n\\n*** FIXED POINT ITERATION ***')\n",
        "   step = 1\n",
        "   flag = 1\n",
        "   condition = True\n",
        "   while condition:\n",
        "      x1 = g(x0)\n",
        "      print('Iteration-%d, x1 = %0.6f and f(x1) = %0.6f' % (step, x1, f(x1)))\n",
        "      x0 = x1\n",
        "      step = step + 1\n",
        "      if step > N:\n",
        "         flag=0\n",
        "         break\n",
        "      condition = abs(f(x1)) > e\n",
        "   if flag==1:\n",
        "       print('\\nRequired root is: %0.8f' % x1)\n",
        "   else:\n",
        "       print('\\nNot Convergent.')\n",
        "\n",
        "\n",
        "# Input Section\n",
        "x0 = input('Enter Guess: ')\n",
        "e = input('Tolerable Error: ')\n",
        "N = input('Maximum Step: ')\n",
        "\n",
        "# Converting x0 and e to float\n",
        "x0 = float(x0)\n",
        "e = float(e)\n",
        "\n",
        "# Converting N to integer\n",
        "N = int(N)\n",
        "\n",
        "#Note: You can combine above three section like this\n",
        "# x0 = float(input('Enter Guess: '))\n",
        "# e = float(input('Tolerable Error: '))\n",
        "# N = int(input('Maximum Step: '))\n",
        "\n",
        "# Starting fixed point iteration\n",
        "fixedPointIteration(x0,e,N)"
      ],
      "execution_count": 0,
      "outputs": [
        {
          "output_type": "stream",
          "text": [
            "Enter Guess: 4\n",
            "Tolerable Error: 0.00001\n",
            "Maximum Step: 10\n",
            "\n",
            "\n",
            "*** FIXED POINT ITERATION ***\n",
            "Iteration-1, x1 = 3.250000 and f(x1) = 0.562500\n",
            "Iteration-2, x1 = 3.163462 and f(x1) = 0.007489\n",
            "Iteration-3, x1 = 3.162278 and f(x1) = 0.000001\n",
            "\n",
            "Required root is: 3.16227788\n"
          ],
          "name": "stdout"
        }
      ]
    }
  ]
}