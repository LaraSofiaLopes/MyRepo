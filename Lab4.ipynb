{
  "nbformat": 4,
  "nbformat_minor": 0,
  "metadata": {
    "colab": {
      "name": "Untitled5.ipynb",
      "provenance": [],
      "authorship_tag": "ABX9TyMW1e7r+0Ozli0FcNKvIrH+",
      "include_colab_link": true
    },
    "kernelspec": {
      "name": "python3",
      "display_name": "Python 3"
    }
  },
  "cells": [
    {
      "cell_type": "markdown",
      "metadata": {
        "id": "view-in-github",
        "colab_type": "text"
      },
      "source": [
        "<a href=\"https://colab.research.google.com/github/LaraSofiaLopes/Numerical-Analysis/blob/master/Lab4.ipynb\" target=\"_parent\"><img src=\"https://colab.research.google.com/assets/colab-badge.svg\" alt=\"Open In Colab\"/></a>"
      ]
    },
    {
      "cell_type": "markdown",
      "metadata": {
        "id": "C3TsugSwxSLQ",
        "colab_type": "text"
      },
      "source": [
        "# **LAB 4**\n",
        "\n"
      ]
    },
    {
      "cell_type": "markdown",
      "metadata": {
        "id": "LfM41O_ixe-q",
        "colab_type": "text"
      },
      "source": [
        "### 1)"
      ]
    },
    {
      "cell_type": "markdown",
      "metadata": {
        "id": "5QwpfN5oI6tU",
        "colab_type": "text"
      },
      "source": [
        "\n",
        "\n",
        "> Bisection Method\n"
      ]
    },
    {
      "cell_type": "code",
      "metadata": {
        "id": "gp3J3laoJBeU",
        "colab_type": "code",
        "colab": {
          "base_uri": "https://localhost:8080/",
          "height": 1000
        },
        "outputId": "d8e57919-e722-4c52-93af-51bb73a196aa"
      },
      "source": [
        "# Defining Function\n",
        "def f(x):\n",
        "  return x**3-5*x-9\n",
        "\n",
        "# Implementing Bisection Method\n",
        "def bisection(x0,x1,nmax,ex,e):\n",
        "  step = 1\n",
        "  print('\\n\\n*** BISECTION METHOD IMPLEMENTATION ***')\n",
        "  condition = True\n",
        "  \n",
        "  while condition:\n",
        "    x2 = (x0 + x1)/2\n",
        "    print('Iteration-%d, x2 = %0.6f and f(x2) = %0.6f' % (step, x2, f(x2)))\n",
        "\n",
        "    if f(x0) * f(x2) < 0:\n",
        "      x1 = x2\n",
        "    else:\n",
        "      x0 = x2\n",
        "\n",
        "    step = step + 1\n",
        "    condition1 = step<nmax\n",
        "    condition2 = abs((x1 - x0)/2)>ex\n",
        "    condition3 = abs(f(x2)) > e\n",
        "    condition = condition1 and condition2 and condition3\n",
        "    print('step = %d, |x1 - x0| = %0.6f, |f(x)| = %0.6f' % (step,abs(x1 - x0), abs(f(x2))))\n",
        "\n",
        "  print('\\nRequired Root is : %0.8f' % x2)\n",
        "\n",
        "\n",
        "# Input Section\n",
        "x0 = input('First Guess: ')\n",
        "x1 = input('Second Guess: ')\n",
        "e = input('Tolerable Error of f TOLF: ')\n",
        "nmax = input('Max. number of iterations: ')\n",
        "ex = input('Tolerable error x TOLX: ')\n",
        "\n",
        "# Converting input to float\n",
        "x0 = float(x0)\n",
        "x1 = float(x1)\n",
        "e = float(e)\n",
        "nmax = int(nmax)\n",
        "ex = float(ex)\n",
        "\n",
        "# Checking Correctness of initial guess values and bisecting\n",
        "if f(x0) * f(x1) > 0.0:\n",
        "   print('Given guess values do not bracket the root.')\n",
        "   print('Try Again with different guess values.')\n",
        "else:\n",
        "   bisection(x0,x1,nmax,ex,e)"
      ],
      "execution_count": 2,
      "outputs": [
        {
          "output_type": "stream",
          "text": [
            "First Guess: -200\n",
            "Second Guess: 10000\n",
            "Tolerable Error of f TOLF: 0.00001\n",
            "Max. number of iterations: 100\n",
            "Tolerable error x TOLX: 0.00001\n",
            "\n",
            "\n",
            "*** BISECTION METHOD IMPLEMENTATION ***\n",
            "Iteration-1, x2 = 4900.000000 and f(x2) = 117648975491.000000\n",
            "step = 2, |x1 - x0| = 5100.000000, |f(x)| = 117648975491.000000\n",
            "Iteration-2, x2 = 2350.000000 and f(x2) = 12977863241.000000\n",
            "step = 3, |x1 - x0| = 2550.000000, |f(x)| = 12977863241.000000\n",
            "Iteration-3, x2 = 1075.000000 and f(x2) = 1242291491.000000\n",
            "step = 4, |x1 - x0| = 1275.000000, |f(x)| = 1242291491.000000\n",
            "Iteration-4, x2 = 437.500000 and f(x2) = 83738037.875000\n",
            "step = 5, |x1 - x0| = 637.500000, |f(x)| = 83738037.875000\n",
            "Iteration-5, x2 = 118.750000 and f(x2) = 1673957.796875\n",
            "step = 6, |x1 - x0| = 318.750000, |f(x)| = 1673957.796875\n",
            "Iteration-6, x2 = -40.625000 and f(x2) = -66852.994141\n",
            "step = 7, |x1 - x0| = 159.375000, |f(x)| = 66852.994141\n",
            "Iteration-7, x2 = 39.062500 and f(x2) = 59400.332275\n",
            "step = 8, |x1 - x0| = 79.687500, |f(x)| = 59400.332275\n",
            "Iteration-8, x2 = -0.781250 and f(x2) = -5.570587\n",
            "step = 9, |x1 - x0| = 39.843750, |f(x)| = 5.570587\n",
            "Iteration-9, x2 = 19.140625 and f(x2) = 6907.723728\n",
            "step = 10, |x1 - x0| = 19.921875, |f(x)| = 6907.723728\n",
            "Iteration-10, x2 = 9.179688 and f(x2) = 718.643192\n",
            "step = 11, |x1 - x0| = 9.960938, |f(x)| = 718.643192\n",
            "Iteration-11, x2 = 4.199219 and f(x2) = 44.050570\n",
            "step = 12, |x1 - x0| = 4.980469, |f(x)| = 44.050570\n",
            "Iteration-12, x2 = 1.708984 and f(x2) = -12.553615\n",
            "step = 13, |x1 - x0| = 2.490234, |f(x)| = 12.553615\n",
            "Iteration-13, x2 = 2.954102 and f(x2) = 2.009098\n",
            "step = 14, |x1 - x0| = 1.245117, |f(x)| = 2.009098\n",
            "Iteration-14, x2 = 2.331543 and f(x2) = -7.983231\n",
            "step = 15, |x1 - x0| = 0.622559, |f(x)| = 7.983231\n",
            "Iteration-15, x2 = 2.642822 and f(x2) = -3.755294\n",
            "step = 16, |x1 - x0| = 0.311279, |f(x)| = 3.755294\n",
            "Iteration-16, x2 = 2.798462 and f(x2) = -1.076465\n",
            "step = 17, |x1 - x0| = 0.155640, |f(x)| = 1.076465\n",
            "Iteration-17, x2 = 2.876282 and f(x2) = 0.414060\n",
            "step = 18, |x1 - x0| = 0.077820, |f(x)| = 0.414060\n",
            "Iteration-18, x2 = 2.837372 and f(x2) = -0.344090\n",
            "step = 19, |x1 - x0| = 0.038910, |f(x)| = 0.344090\n",
            "Iteration-19, x2 = 2.856827 and f(x2) = 0.031741\n",
            "step = 20, |x1 - x0| = 0.019455, |f(x)| = 0.031741\n",
            "Iteration-20, x2 = 2.847099 and f(x2) = -0.156982\n",
            "step = 21, |x1 - x0| = 0.009727, |f(x)| = 0.156982\n",
            "Iteration-21, x2 = 2.851963 and f(x2) = -0.062823\n",
            "step = 22, |x1 - x0| = 0.004864, |f(x)| = 0.062823\n",
            "Iteration-22, x2 = 2.854395 and f(x2) = -0.015591\n",
            "step = 23, |x1 - x0| = 0.002432, |f(x)| = 0.015591\n",
            "Iteration-23, x2 = 2.855611 and f(x2) = 0.008062\n",
            "step = 24, |x1 - x0| = 0.001216, |f(x)| = 0.008062\n",
            "Iteration-24, x2 = 2.855003 and f(x2) = -0.003768\n",
            "step = 25, |x1 - x0| = 0.000608, |f(x)| = 0.003768\n",
            "Iteration-25, x2 = 2.855307 and f(x2) = 0.002147\n",
            "step = 26, |x1 - x0| = 0.000304, |f(x)| = 0.002147\n",
            "Iteration-26, x2 = 2.855155 and f(x2) = -0.000811\n",
            "step = 27, |x1 - x0| = 0.000152, |f(x)| = 0.000811\n",
            "Iteration-27, x2 = 2.855231 and f(x2) = 0.000668\n",
            "step = 28, |x1 - x0| = 0.000076, |f(x)| = 0.000668\n",
            "Iteration-28, x2 = 2.855193 and f(x2) = -0.000071\n",
            "step = 29, |x1 - x0| = 0.000038, |f(x)| = 0.000071\n",
            "Iteration-29, x2 = 2.855212 and f(x2) = 0.000298\n",
            "step = 30, |x1 - x0| = 0.000019, |f(x)| = 0.000298\n",
            "\n",
            "Required Root is : 2.85521187\n"
          ],
          "name": "stdout"
        }
      ]
    },
    {
      "cell_type": "markdown",
      "metadata": {
        "id": "mu6IlSlhA3fc",
        "colab_type": "text"
      },
      "source": [
        "\n",
        "\n",
        "> Fixed Point Iteration\n",
        "\n"
      ]
    },
    {
      "cell_type": "code",
      "metadata": {
        "id": "uKimx18gBAVk",
        "colab_type": "code",
        "colab": {
          "base_uri": "https://localhost:8080/",
          "height": 187
        },
        "outputId": "0eb4b4c8-6433-4c9e-8881-c93153de757e"
      },
      "source": [
        "# Fixed Point Iteration Method\n",
        "# Importing math to use sqrt function\n",
        "import math\n",
        "\n",
        "def f(x):\n",
        "   return x*x*x + x*x -1\n",
        "\n",
        "# Re-writing f(x)=0 to x = g(x)\n",
        "def g(x):\n",
        "   return 1/math.sqrt(1+x)\n",
        "\n",
        "# Implementing Fixed Point Iteration Method\n",
        "def fixedPointIteration(x0, ex,e,N):\n",
        "   print('\\n\\n*** FIXED POINT ITERATION ***')\n",
        "   step = 1\n",
        "   flag = 1\n",
        "   condition = True\n",
        "   while condition:\n",
        "      x1 = g(x0)\n",
        "      print('Iteration-%d, x1 = %0.6f and f(x1) = %0.6f' % (step, x1, f(x1)))\n",
        "      x0 = x1\n",
        "\n",
        "      step = step + 1\n",
        "      if step > N:\n",
        "         flag=0\n",
        "         break\n",
        "\n",
        "      condition1 = step<N\n",
        "      condition2 = abs(x1-x0)>ex\n",
        "      condition3 = abs(f(x1))>e\n",
        "      condition = condition1 and condition2 and condition3\n",
        "\n",
        "      if flag==1:\n",
        "        print('\\nRequired root is: %0.8f' % x1)\n",
        "      else:\n",
        "        print('\\nNot Convergent.')\n",
        "\n",
        "\n",
        "#Input section \n",
        "x0 = input('Enter Guess:')\n",
        "e= input('Tolerable Error of f TOLF: ')\n",
        "N= input('Maximum Step:')\n",
        "ex= input('Tolerable error x TOLX: ')\n",
        "  \n",
        "#Converting x0 and e to float\n",
        "x0=float(x0)\n",
        "e=float(e)\n",
        "ex=float(ex)\n",
        "\n",
        "#Converting N to integer\n",
        "N= int(N)\n",
        "\n",
        "#Starting fixed point iteration\n",
        "fixedPointIteration(x0,ex, e,N)"
      ],
      "execution_count": 6,
      "outputs": [
        {
          "output_type": "stream",
          "text": [
            "Enter Guess:3\n",
            "Tolerable Error of f TOLF: 0.1\n",
            "Maximum Step:5\n",
            "Tolerable error x TOLX: 0.01\n",
            "\n",
            "\n",
            "*** FIXED POINT ITERATION ***\n",
            "Iteration-1, x1 = 0.500000 and f(x1) = -0.625000\n",
            "\n",
            "Required root is: 0.50000000\n"
          ],
          "name": "stdout"
        }
      ]
    },
    {
      "cell_type": "markdown",
      "metadata": {
        "id": "qxEcG_G5FUDp",
        "colab_type": "text"
      },
      "source": [
        "\n",
        "\n",
        "> Newton's Method\n"
      ]
    },
    {
      "cell_type": "code",
      "metadata": {
        "id": "4zumLue_GDco",
        "colab_type": "code",
        "colab": {
          "base_uri": "https://localhost:8080/",
          "height": 187
        },
        "outputId": "77c5d95c-5c93-43e5-bc61-131ca8e00328"
      },
      "source": [
        "# Defining Function\n",
        "def f(x):\n",
        "   return x**3 - 5*x - 9\n",
        "\n",
        "# Defining derivative of function\n",
        "def g(x):\n",
        "   return 3*x**2 - 5\n",
        "\n",
        "# Implementing Newton Method\n",
        "def newton(x0,ex,e,N):\n",
        "   print('\\n\\n*** NEWTON METHOD IMPLEMENTATION ***')\n",
        "   step = 1\n",
        "   flag = 1\n",
        "   condition = True\n",
        "   while condition:\n",
        "      if g(x0) == 0.0:\n",
        "         print('Divide by zero error!')\n",
        "         break\n",
        "      x1 = x0 - f(x0)/g(x0)\n",
        "      print('Iteration-%d, x1 = %0.6f and f(x1) = %0.6f' % (step, x1, f(x1)))\n",
        "      x0 = x1\n",
        "      step = step + 1\n",
        "\n",
        "      if step > N:\n",
        "        flag = 0\n",
        "        break\n",
        "\n",
        "      condition1 = step<N\n",
        "      condition2 = abs(x1-x0)>ex\n",
        "      condition3 = abs(f(x1))>e\n",
        "      condition = condition1 and condition2 and condition3\n",
        "      \n",
        "      if flag==1:\n",
        "         print('\\nRequired root is: %0.8f' % x1)\n",
        "      else:\n",
        "         print('\\nNot Convergent.')\n",
        "         \n",
        "# Input Section\n",
        "x0 = input('Enter Guess: ')\n",
        "e = input('Tolerable Error of f TOLF: ')\n",
        "N = input('Maximum Step: ')\n",
        "ex= input('Tolerable error x TOLX: ')\n",
        "\n",
        "# Converting x0 and e to float\n",
        "x0 = float(x0)\n",
        "e = float(e)\n",
        "ex=float(ex)\n",
        "\n",
        "# Converting N to integer\n",
        "N = int(N)\n",
        "\n",
        "# Starting Newton Method\n",
        "newton(x0,ex,e,N)"
      ],
      "execution_count": 10,
      "outputs": [
        {
          "output_type": "stream",
          "text": [
            "Enter Guess: 2\n",
            "Tolerable Error of f TOLF: 0.01\n",
            "Maximum Step: 5\n",
            "Tolerable error x TOLX: 0.001\n",
            "\n",
            "\n",
            "*** NEWTON METHOD IMPLEMENTATION ***\n",
            "Iteration-1, x1 = 3.571429 and f(x1) = 18.696793\n",
            "\n",
            "Required root is: 3.57142857\n"
          ],
          "name": "stdout"
        }
      ]
    },
    {
      "cell_type": "markdown",
      "metadata": {
        "id": "wk3C1nPFIJ4G",
        "colab_type": "text"
      },
      "source": [
        "\n",
        "\n",
        "> Secant Method\n",
        "\n"
      ]
    },
    {
      "cell_type": "code",
      "metadata": {
        "id": "177qxp39IQLa",
        "colab_type": "code",
        "colab": {
          "base_uri": "https://localhost:8080/",
          "height": 255
        },
        "outputId": "be22ee24-79db-415b-c82d-dfa4cb97e498"
      },
      "source": [
        "# Defining Function\n",
        "def f(x):\n",
        "   return x**3 - 5*x - 9\n",
        "# Implementing Secant Method\n",
        "def secant(x0,x1,ex,e,N):\n",
        "   print('\\n\\n*** SECANT METHOD IMPLEMENTATION ***')\n",
        "   step = 1\n",
        "   condition = True\n",
        "   while condition:\n",
        "      if f(x0) == f(x1):\n",
        "         print('Divide by zero error!')\n",
        "         break\n",
        "      x2 = x0 - (x1-x0)*f(x0)/( f(x1) - f(x0) )\n",
        "      print('Iteration-%d, x2 = %0.6f and f(x2) = %0.6f' % (step, x2, f(x2)))\n",
        "      x0 = x1\n",
        "      x1 = x2\n",
        "      step = step + 1\n",
        "      if step > N:\n",
        "         print('Not Convergent!')\n",
        "         break\n",
        "\n",
        "      condition1 = step<N\n",
        "      condition2 = abs(x1-x0)>ex\n",
        "      condition3 = abs(f(x2))>e\n",
        "      condition = condition1 and condition2 and condition3\n",
        "\n",
        "   print('\\n Required root is: %0.8f' % x2)\n",
        "\n",
        "# Input Section\n",
        "x0 = input('Enter First Guess: ')\n",
        "x1 = input('Enter Second Guess: ')\n",
        "e = input('Tolerable Error of f TOLF: ')\n",
        "ex = input('Tolerable error x TOLX: ')\n",
        "N = input('Maximum Step: ')\n",
        "\n",
        "# Converting x0 and e to float\n",
        "x0 = float(x0)\n",
        "x1 = float(x1)\n",
        "e = float(e)\n",
        "ex = float(ex)\n",
        "\n",
        "# Converting N to integer\n",
        "N = int(N)\n",
        "\n",
        "# Starting Secant Method\n",
        "secant(x0,x1,ex,e,N)"
      ],
      "execution_count": 1,
      "outputs": [
        {
          "output_type": "stream",
          "text": [
            "Enter First Guess: 2\n",
            "Enter Second Guess: 10\n",
            "Tolerable Error of f TOLF: 0.01\n",
            "Tolerable error x TOLX: 0.001\n",
            "Maximum Step: 5\n",
            "\n",
            "\n",
            "*** SECANT METHOD IMPLEMENTATION ***\n",
            "Iteration-1, x2 = 2.092437 and f(x2) = -10.300884\n",
            "Iteration-2, x2 = 2.178062 and f(x2) = -9.557687\n",
            "Iteration-3, x2 = 3.279215 and f(x2) = 9.866160\n",
            "Iteration-4, x2 = 2.719895 and f(x2) = -2.478161\n",
            "\n",
            " Required root is: 2.71989479\n"
          ],
          "name": "stdout"
        }
      ]
    },
    {
      "cell_type": "markdown",
      "metadata": {
        "id": "avFH-bS3sac7",
        "colab_type": "text"
      },
      "source": [
        "### 2)"
      ]
    },
    {
      "cell_type": "code",
      "metadata": {
        "id": "tRGSXZTesgBG",
        "colab_type": "code",
        "colab": {
          "base_uri": "https://localhost:8080/",
          "height": 1000
        },
        "outputId": "1c40ecb4-0d23-4b71-f155-8404ee91b2e6"
      },
      "source": [
        "import numpy as np\n",
        "\n",
        "# Import pyplot as plt\n",
        "import matplotlib.pyplot as plt\n",
        "\n",
        "# Defining Function\n",
        "def f(x):\n",
        "   return np.sin(4*x)*x\n",
        "\n",
        "# Defining derivative of function\n",
        "def g(x):\n",
        "   return np.sin(4*x)+4*np.cos(4*x)*x\n",
        "\n",
        "# Implementing Newton Method\n",
        "def newton(x0,e,N):\n",
        "   print('\\n\\n*** NEWTON METHOD IMPLEMENTATION ***')\n",
        "   step = 1\n",
        "   flag = 1\n",
        "   condition = True\n",
        "   while condition:\n",
        "      if g(x0) == 0.0:\n",
        "         print('Divide by zero error!')\n",
        "         break\n",
        "      x1 = x0 - f(x0)/g(x0)\n",
        "      print('Iteration-%d, x1 = %0.6f and f(x1) = %0.6f' % (step, x1, f(x1)))\n",
        "      x0 = x1\n",
        "      step = step + 1\n",
        "\n",
        "      if step > N:\n",
        "         flag = 0\n",
        "         break\n",
        "      condition = abs(f(x1)) > e\n",
        "\n",
        "      if flag==1:\n",
        "         print('\\nRequired root is: %0.8f' % x1)\n",
        "      else:\n",
        "         print('\\nNot Convergent.')\n",
        "      return x1      \n",
        "\n",
        "iterNumber = input('Enter the number of iterations: ')\n",
        "iterNumber = int(iterNumber)\n",
        "\n",
        "for i in range(iterNumber):\n",
        "  # Input Section\n",
        "  x0 = input('Enter Guess: ')\n",
        "  e = input('Tolerable Error: ')\n",
        "  N = input('Maximum Step: ')\n",
        "  # Converting x0 and e to float\n",
        "  x0 = float(x0)\n",
        "  e = float(e)\n",
        "  # Converting N to integer\n",
        "  N = int(N)\n",
        "\n",
        "  # Starting Newton Method\n",
        "  x1 = newton(x0,e,N)\n",
        "\n",
        "  #plot function\n",
        "  t = np.arange(min(x1,x0)-2, max(x1,x0)+2, 0.01)\n",
        "\n",
        "  #plot the function\n",
        "  ssin = f(t)\n",
        "  zero = [0] * len(t)\n",
        "  plt.plot(t, ssin, lw=2, label='function')\n",
        "  plt.plot(t, zero, lw=3)\n",
        "\n",
        "  # plot the root found\n",
        "  plt.plot(t, g(x0)*t-g(x0)*x0+f(x0), '-.', color='grey', label='differential', lw=1)\n",
        "  plt.plot(x1, f(x1), 'o', label='root')\n",
        "  plt.plot(x0, f(x0), 'o', label='starting guess')\n",
        "\n",
        "\n",
        "  plt.legend()\n",
        "  plt.show()"
      ],
      "execution_count": 8,
      "outputs": [
        {
          "output_type": "stream",
          "text": [
            "Enter the number of iterations: 3\n",
            "Enter Guess: 2\n",
            "Tolerable Error: 0.1\n",
            "Maximum Step: 10\n",
            "\n",
            "\n",
            "*** NEWTON METHOD IMPLEMENTATION ***\n",
            "Iteration-1, x1 = 13.330128 and f(x1) = 1.152454\n",
            "\n",
            "Required root is: 13.33012805\n"
          ],
          "name": "stdout"
        },
        {
          "output_type": "display_data",
          "data": {
            "image/png": "[encoded data removed]",
            "text/plain": [
              "<Figure size 432x288 with 1 Axes>"
            ]
          },
          "metadata": {
            "tags": [],
            "needs_background": "light"
          }
        },
        {
          "output_type": "stream",
          "text": [
            "Enter Guess: 2\n",
            "Tolerable Error: 0.1\n",
            "Maximum Step: 40\n",
            "\n",
            "\n",
            "*** NEWTON METHOD IMPLEMENTATION ***\n",
            "Iteration-1, x1 = 13.330128 and f(x1) = 1.152454\n",
            "\n",
            "Required root is: 13.33012805\n"
          ],
          "name": "stdout"
        },
        {
          "output_type": "display_data",
          "data": {
            "image/png": "[encoded data removed]",
            "text/plain": [
              "<Figure size 432x288 with 1 Axes>"
            ]
          },
          "metadata": {
            "tags": [],
            "needs_background": "light"
          }
        },
        {
          "output_type": "stream",
          "text": [
            "Enter Guess: 2\n",
            "Tolerable Error: 0.0001\n",
            "Maximum Step: 60\n",
            "\n",
            "\n",
            "*** NEWTON METHOD IMPLEMENTATION ***\n",
            "Iteration-1, x1 = 13.330128 and f(x1) = 1.152454\n",
            "\n",
            "Required root is: 13.33012805\n"
          ],
          "name": "stdout"
        },
        {
          "output_type": "display_data",
          "data": {
            "image/png": "[encoded data removed]",
            "text/plain": [
              "<Figure size 432x288 with 1 Axes>"
            ]
          },
          "metadata": {
            "tags": [],
            "needs_background": "light"
          }
        }
      ]
    }
  ]
}