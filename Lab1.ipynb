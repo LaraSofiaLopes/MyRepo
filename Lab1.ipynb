{
  "nbformat": 4,
  "nbformat_minor": 0,
  "metadata": {
    "colab": {
      "name": "Untitled1.ipynb",
      "provenance": [],
      "authorship_tag": "ABX9TyNVLT+ZQW+fBcQQVYbZhXhb",
      "include_colab_link": true
    },
    "kernelspec": {
      "name": "python3",
      "display_name": "Python 3"
    }
  },
  "cells": [
    {
      "cell_type": "markdown",
      "metadata": {
        "id": "view-in-github",
        "colab_type": "text"
      },
      "source": [
        "<a href=\"https://colab.research.google.com/github/LaraSofiaLopes/MyRepo/blob/master/Lab1.ipynb\" target=\"_parent\"><img src=\"https://colab.research.google.com/assets/colab-badge.svg\" alt=\"Open In Colab\"/></a>"
      ]
    },
    {
      "cell_type": "markdown",
      "metadata": {
        "id": "bBOEPqYYoteE",
        "colab_type": "text"
      },
      "source": [
        "# **LAB 1:**\n",
        "\n",
        "1) Take a list, say for example this one:\n",
        "\n",
        "a = [1, 1, 2, 3, 5, 8, 13, 21, 34, 55, 89]\n",
        "\n",
        "and write a program that prints out all the elements of the list that are less than 5."
      ]
    },
    {
      "cell_type": "code",
      "metadata": {
        "id": "SfK6Gacqot0F",
        "colab_type": "code",
        "colab": {
          "base_uri": "https://localhost:8080/",
          "height": 34
        },
        "outputId": "bd2469c7-a243-4c2b-c78e-314bf6386bba"
      },
      "source": [
        "a = [1, 1, 2, 3, 5, 8, 13, 21, 34, 55, 89]\n",
        "new=[]\n",
        "\n",
        "for i in a:\n",
        "  if i<5:\n",
        "    new.append(i)\n",
        "\n",
        "print(new)"
      ],
      "execution_count": 27,
      "outputs": [
        {
          "output_type": "stream",
          "text": [
            "[1, 1, 2, 3]\n"
          ],
          "name": "stdout"
        }
      ]
    },
    {
      "cell_type": "code",
      "metadata": {
        "id": "TyXoHGmJpXEh",
        "colab_type": "code",
        "colab": {
          "base_uri": "https://localhost:8080/",
          "height": 85
        },
        "outputId": "3fa84643-0693-41ac-8990-de9fa66ca9fb"
      },
      "source": [
        "a = [1, 1, 2, 3, 5, 8, 13, 21, 34, 55, 89]\n",
        "\n",
        "for i in a:\n",
        "  if i<5:\n",
        "    print (i)"
      ],
      "execution_count": 28,
      "outputs": [
        {
          "output_type": "stream",
          "text": [
            "1\n",
            "1\n",
            "2\n",
            "3\n"
          ],
          "name": "stdout"
        }
      ]
    },
    {
      "cell_type": "markdown",
      "metadata": {
        "id": "_YUcTAMqphxt",
        "colab_type": "text"
      },
      "source": [
        "2) Write a program that asks the user how many Fibonnaci numbers to generate and then generates them. \n",
        "\n",
        "(Hint: The Fibonnaci sequence is a sequence of numbers where the next number in the sequence is the sum of the previous two numbers in the sequence. The sequence looks like this: 1, 1, 2, 3, 5, 8, 13, ...)"
      ]
    },
    {
      "cell_type": "code",
      "metadata": {
        "id": "u7CzOXaAqJda",
        "colab_type": "code",
        "colab": {
          "base_uri": "https://localhost:8080/",
          "height": 85
        },
        "outputId": "d8592ecb-a06e-4984-cb35-cad56815b6fa"
      },
      "source": [
        "print('How many Fibonnaci numbers do you want to generate?:')\n",
        "numF = input()\n",
        "\n",
        "intNumF = int(numF)\n",
        "finalList = []\n",
        "\n",
        "if intNumF == 0:\n",
        "  print(\"Empty list\")\n",
        "\n",
        "elif intNumF == 1:\n",
        "  finalList.append(1)\n",
        "\n",
        "elif intNumF == 2:\n",
        "  finalList.append(1)\n",
        "  finalList.append(1)\n",
        "\n",
        "else:\n",
        "  finalList.append(1)\n",
        "  finalList.append(1)\n",
        "  first = 1\n",
        "  second = 1\n",
        "  for x in range(intNumF-2):\n",
        "    summ = first + second\n",
        "    finalList.append(summ)\n",
        "    first = second\n",
        "    second = summ\n",
        "\n",
        "print(finalList)\n",
        "\n"
      ],
      "execution_count": 29,
      "outputs": [
        {
          "output_type": "stream",
          "text": [
            "How many Fibonnaci numbers do you want to generate?:\n",
            "0\n",
            "Empty list\n",
            "[]\n"
          ],
          "name": "stdout"
        }
      ]
    },
    {
      "cell_type": "markdown",
      "metadata": {
        "id": "_q11PVx2yBwo",
        "colab_type": "text"
      },
      "source": [
        "3) Write a program (function!) that takes a list and returns a new list that contains all the elements of the first list minus all the duplicates. \n",
        "\n",
        "This list might be a = [1,2,3,4,3,2,1]"
      ]
    },
    {
      "cell_type": "code",
      "metadata": {
        "id": "TLj5ftP_ySTq",
        "colab_type": "code",
        "colab": {
          "base_uri": "https://localhost:8080/",
          "height": 34
        },
        "outputId": "fc5f5b69-ec28-406f-f968-65b43a6b756e"
      },
      "source": [
        "a = [1,2,3,4,3,2,1]\n",
        "\n",
        "new= []\n",
        "\n",
        "for i in a:\n",
        "  if not (i in new):\n",
        "    new.append(i)\n",
        "\n",
        "print (new)"
      ],
      "execution_count": 33,
      "outputs": [
        {
          "output_type": "stream",
          "text": [
            "[1, 2, 3, 4]\n"
          ],
          "name": "stdout"
        }
      ]
    }
  ]
}