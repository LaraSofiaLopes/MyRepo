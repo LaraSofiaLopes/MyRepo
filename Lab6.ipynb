{
  "nbformat": 4,
  "nbformat_minor": 0,
  "metadata": {
    "colab": {
      "name": "Untitled8.ipynb",
      "provenance": [],
      "authorship_tag": "ABX9TyPRsocB1p4d/PZmMNE8XG/2",
      "include_colab_link": true
    },
    "kernelspec": {
      "name": "python3",
      "display_name": "Python 3"
    }
  },
  "cells": [
    {
      "cell_type": "markdown",
      "metadata": {
        "id": "view-in-github",
        "colab_type": "text"
      },
      "source": [
        "<a href=\"https://colab.research.google.com/github/LaraSofiaLopes/Numerical-Analysis/blob/master/Lab6.ipynb\" target=\"_parent\"><img src=\"https://colab.research.google.com/assets/colab-badge.svg\" alt=\"Open In Colab\"/></a>"
      ]
    },
    {
      "cell_type": "markdown",
      "metadata": {
        "id": "aFGPwerm_ssM",
        "colab_type": "text"
      },
      "source": [
        "# **LAB 6**\n",
        "### Lara Lopes"
      ]
    },
    {
      "cell_type": "markdown",
      "metadata": {
        "id": "RYDJpUf5_2MB",
        "colab_type": "text"
      },
      "source": [
        "### **Task 2**\n",
        "\n",
        "**1)**\n",
        "\n",
        "    4x1 − x2 + x3 = 8\n",
        "    2x1 + 5x2 + 2x3 = 3\n",
        "    x1 + 2x2 + 4x3 = 11\n",
        "\n",
        "Multiply equation 3 by -2 and add equation 2: \n",
        "\n",
        "    4x1 − x2 + x3 = 8\n",
        "    2x1 + 5x2 + 2x3 = 3\n",
        "    0x1 + 1x2 + -6x3 = -19\n",
        "\n",
        "Multiply equation 2 by -2 and add equation 1:\n",
        "\n",
        "    4x1 − x2 + x3 = 8\n",
        "    0x1 + -11x2 + -3x3 = 2\n",
        "    0x1 + 1x2 + -6x3 = -19\n",
        "\n",
        "Multiply equation 3 by 11 and add equation 2:\n",
        "\n",
        "    4x1 − x2 + x3 = 8\n",
        "    0x1 + -11x2 + -3x3 = 2\n",
        "    0x1 + 0x2 + -69x3 = -207\n",
        "\n",
        "Final results:\n",
        "\n",
        "    x3 = 3\n",
        "    x2 = -1\n",
        "    x1 = 1\n",
        "\n",
        "**2)**\n",
        " \n",
        "    4x1 − x2 + 2x3 = 9\n",
        "    2x1 + 4x2 - x3 = -5\n",
        "    x1 + x2 - 3x3 = -9\n",
        "\n",
        "Multiply equation 3 by -2 and add equation 2:\n",
        "\n",
        "    4x1 − x2 + 2x3 = 9\n",
        "    2x1 + 4x2 - x3 = -5\n",
        "    0x1 + 2x2 + 5x3 = 13\n",
        "\n",
        "Multiply equation 2 by -2 and add equation 1:\n",
        "\n",
        "    4x1 − x2 + 2x3 = 9\n",
        "    0x1 - 9x2 + 4x3 = 19\n",
        "    0x1 + 2x2 + 5x3 = 13\n",
        "\n",
        "Multiply equation 3 by 9 and equation 2 and add equation 2 to equation 3:\n",
        "\n",
        "    4x1 − x2 + 2x3 = 9\n",
        "    0x1 - 9x2 + 4x3 = 19\n",
        "    0x1 + 0x2 + 53x3 = 155\n",
        "\n",
        "Final result: \n",
        "\n",
        "    x3 = 3\n",
        "    x2 = -1\n",
        "    x1 = 1"
      ]
    },
    {
      "cell_type": "markdown",
      "metadata": {
        "id": "YRxbaG_goBUO",
        "colab_type": "text"
      },
      "source": [
        "### **Task 3**"
      ]
    },
    {
      "cell_type": "code",
      "metadata": {
        "id": "bFTLoWd5oHeN",
        "colab_type": "code",
        "colab": {
          "base_uri": "https://localhost:8080/",
          "height": 238
        },
        "outputId": "631d38fd-0c8c-4239-e937-b1a83b8e9ede"
      },
      "source": [
        "# Gaussian elimination\n",
        "\n",
        "import scipy \n",
        "import scipy.linalg\n",
        "import numpy as np\n",
        "import copy\n",
        "\n",
        "def linearsolver(A,b):\n",
        "  n = len(A)\n",
        "  M = A\n",
        "\n",
        "  i = 0\n",
        "  for x in M:\n",
        "   x.append(b[i])\n",
        "   i += 1\n",
        "\n",
        "\n",
        "  for k in range(n):\n",
        "   # first pivoting\n",
        "   for i in range(k,n):\n",
        "     if abs(M[i][k]) > abs(M[k][k]):\n",
        "        M[k], M[i] = M[i],M[k]\n",
        "     else:\n",
        "        pass\n",
        "   \n",
        "   # Gaussian elimination in loop \n",
        "   for j in range(k+1,n):\n",
        "       q = float(M[j][k]) / M[k][k]\n",
        "       for m in range(k, n+1):\n",
        "          # M_jm = M_jm - M_jk / M_kk *M_km\n",
        "          M[j][m] -=  q * M[k][m]\n",
        "\n",
        "  x = [0 for i in range(n)]       # x = [0, 0, .... , 0]\n",
        "\n",
        "  # calculating x\n",
        "  x[n-1] =float(M[n-1][n])/M[n-1][n-1]\n",
        "  for i in range (n-1,-1,-1):\n",
        "    z = 0\n",
        "    for j in range(i+1,n):\n",
        "        z = z  + float(M[i][j])*x[j]\n",
        "    x[i] = float(M[i][n] - z)/M[i][i]\n",
        "  return x\n",
        "\n",
        "\n",
        "A = [[4, -1, 1], [2, 5, 2], [1, 2, 4]]\n",
        "b = [8, 3, 11]\n",
        "\n",
        "A1 = copy.deepcopy(A)\n",
        "x = linearsolver(A1, b)\n",
        "\n",
        "print(\"Result with our linearsolver:\")\n",
        "print(np.array(A),\" * x = \",np.array(b))\n",
        "print(\"Solution:\")\n",
        "print(x)\n",
        "\n",
        "\n",
        "x = scipy.linalg.solve(A,b)\n",
        "\n",
        "print(\" \")\n",
        "print(\"Result with linalg.solve:\")\n",
        "print(np.array(A),\" * x = \",np.array(b))\n",
        "print(\"Solution:\")\n",
        "print(x)"
      ],
      "execution_count": 1,
      "outputs": [
        {
          "output_type": "stream",
          "text": [
            "Result with our linearsolver:\n",
            "[[ 4 -1  1]\n",
            " [ 2  5  2]\n",
            " [ 1  2  4]]  * x =  [ 8  3 11]\n",
            "Solution:\n",
            "[1.0, -1.0, 3.0]\n",
            " \n",
            "Result with linalg.solve:\n",
            "[[ 4 -1  1]\n",
            " [ 2  5  2]\n",
            " [ 1  2  4]]  * x =  [ 8  3 11]\n",
            "Solution:\n",
            "[ 1. -1.  3.]\n"
          ],
          "name": "stdout"
        }
      ]
    },
    {
      "cell_type": "code",
      "metadata": {
        "id": "vcoOfhEQqn0C",
        "colab_type": "code",
        "colab": {
          "base_uri": "https://localhost:8080/",
          "height": 238
        },
        "outputId": "bd11e604-dc43-4307-f7dc-c325dda2951f"
      },
      "source": [
        "# Gaussian elimination\n",
        "\n",
        "import scipy \n",
        "import scipy.linalg\n",
        "import numpy as np\n",
        "import copy\n",
        "\n",
        "def linearsolver(A,b):\n",
        "  n = len(A)\n",
        "  M = A\n",
        "\n",
        "  i = 0\n",
        "  for x in M:\n",
        "   x.append(b[i])\n",
        "   i += 1\n",
        "\n",
        "\n",
        "  for k in range(n):\n",
        "   # first pivoting\n",
        "   for i in range(k,n):\n",
        "     if abs(M[i][k]) > abs(M[k][k]):\n",
        "        M[k], M[i] = M[i],M[k]\n",
        "     else:\n",
        "        pass\n",
        "   \n",
        "   # Gaussian elimination in loop \n",
        "   for j in range(k+1,n):\n",
        "       q = float(M[j][k]) / M[k][k]\n",
        "       for m in range(k, n+1):\n",
        "          # M_jm = M_jm - M_jk / M_kk *M_km\n",
        "          M[j][m] -=  q * M[k][m]\n",
        "\n",
        "  x = [0 for i in range(n)]       # x = [0, 0, .... , 0]\n",
        "\n",
        "  # calculating x\n",
        "  x[n-1] =float(M[n-1][n])/M[n-1][n-1]\n",
        "  for i in range (n-1,-1,-1):\n",
        "    z = 0\n",
        "    for j in range(i+1,n):\n",
        "        z = z  + float(M[i][j])*x[j]\n",
        "    x[i] = float(M[i][n] - z)/M[i][i]\n",
        "  return x\n",
        "\n",
        "A = [[4, -1, 2], [2, 4, -1], [1, 1, -3]]\n",
        "b = [9, -5, -9]\n",
        "\n",
        "A1 = copy.deepcopy(A)\n",
        "x = linearsolver(A1, b)\n",
        "\n",
        "print(\"Result with our linearsolver:\")\n",
        "print(np.array(A),\" * x = \",np.array(b))\n",
        "print(\"Solution:\")\n",
        "print(x)\n",
        "\n",
        "\n",
        "x = scipy.linalg.solve(A,b)\n",
        "\n",
        "print(\" \")\n",
        "print(\"Result with linalg.solve:\")\n",
        "print(np.array(A),\" * x = \",np.array(b))\n",
        "print(\"Solution:\")\n",
        "print(x)"
      ],
      "execution_count": 2,
      "outputs": [
        {
          "output_type": "stream",
          "text": [
            "Result with our linearsolver:\n",
            "[[ 4 -1  2]\n",
            " [ 2  4 -1]\n",
            " [ 1  1 -3]]  * x =  [ 9 -5 -9]\n",
            "Solution:\n",
            "[0.5849056603773586, -0.8113207547169813, 2.924528301886792]\n",
            " \n",
            "Result with linalg.solve:\n",
            "[[ 4 -1  2]\n",
            " [ 2  4 -1]\n",
            " [ 1  1 -3]]  * x =  [ 9 -5 -9]\n",
            "Solution:\n",
            "[ 0.58490566 -0.81132075  2.9245283 ]\n"
          ],
          "name": "stdout"
        }
      ]
    },
    {
      "cell_type": "markdown",
      "metadata": {
        "id": "CoMm0O2wq4Bf",
        "colab_type": "text"
      },
      "source": [
        "We found the same solution with the implemented program and with scipy.linalg.solve(A,b)."
      ]
    },
    {
      "cell_type": "markdown",
      "metadata": {
        "id": "e1Amtos2rN3s",
        "colab_type": "text"
      },
      "source": [
        "### **Task 4**"
      ]
    },
    {
      "cell_type": "code",
      "metadata": {
        "id": "tDgBo16GrU5r",
        "colab_type": "code",
        "colab": {
          "base_uri": "https://localhost:8080/",
          "height": 493
        },
        "outputId": "3511158e-ec3c-4381-f631-9c56b2d00366"
      },
      "source": [
        "# LU decomposition\n",
        "\n",
        "import numpy as np\n",
        "\n",
        "def LU_partial_decomposition(matrix):\n",
        "    n, m = matrix.shape\n",
        "    P = np.identity(n)\n",
        "    L = np.identity(n)\n",
        "    U = matrix.copy()\n",
        "    PF = np.identity(n)\n",
        "    LF = np.zeros((n,n))\n",
        "    for k in range(0, n - 1):\n",
        "        index = np.argmax(abs(U[k:,k]))\n",
        "        index = index + k \n",
        "\n",
        "        # here we do pivoting\n",
        "        if index != k:\n",
        "            P = np.identity(n)\n",
        "            P[[index,k],k:n] = P[[k,index],k:n]\n",
        "            U[[index,k],k:n] = U[[k,index],k:n] \n",
        "            PF = np.dot(P,PF)\n",
        "            LF = np.dot(P,LF)\n",
        "        # and here decomposition    \n",
        "        L = np.identity(n)\n",
        "        for j in range(k+1,n):\n",
        "            L[j,k] = -(U[j,k] / U[k,k])\n",
        "            LF[j,k] = (U[j,k] / U[k,k])\n",
        "        U = np.dot(L,U)\n",
        "    np.fill_diagonal(LF, 1)\n",
        "    return PF, LF, U\n",
        "\n",
        "   \n",
        "# Usage\n",
        "A = [[1, 2, 1], [1, -2, 2], [2, 12, -2]]\n",
        "A = np.array(A)\n",
        "P1, L1, U1 = LU_partial_decomposition(A)\n",
        "\n",
        "# Scipy\n",
        "import scipy\n",
        "import scipy.linalg\n",
        "#LU decomposition using linalg.lu library function\n",
        "P2, L2, U2 = scipy.linalg.lu(A) # P2 = P2.T  \n",
        "\n",
        "print(\"Input array:\")\n",
        "print(A)\n",
        "print(\" \")\n",
        "print(\"Result. Pivoting array:\")\n",
        "print(P1)\n",
        "print(\"L and U arrays:\")\n",
        "print(L1,\"\\n\", U1)\n",
        "print(\" \")\n",
        "print(\"Result using linalg.lu function. Pivoting array:\")\n",
        "print(P2.T)  # transponed array\n",
        "print(\"L and U arrays:\")\n",
        "print(L2,\"\\n\", U2)"
      ],
      "execution_count": 4,
      "outputs": [
        {
          "output_type": "stream",
          "text": [
            "Input array:\n",
            "[[ 1  2  1]\n",
            " [ 1 -2  2]\n",
            " [ 2 12 -2]]\n",
            " \n",
            "Result. Pivoting array:\n",
            "[[0. 0. 1.]\n",
            " [0. 1. 0.]\n",
            " [1. 0. 0.]]\n",
            "L and U arrays:\n",
            "[[1.  0.  0. ]\n",
            " [0.5 1.  0. ]\n",
            " [0.5 0.5 1. ]] \n",
            " [[ 2.  12.  -2. ]\n",
            " [ 0.  -8.   3. ]\n",
            " [ 0.   0.   0.5]]\n",
            " \n",
            "Result using linalg.lu function. Pivoting array:\n",
            "[[0. 0. 1.]\n",
            " [0. 1. 0.]\n",
            " [1. 0. 0.]]\n",
            "L and U arrays:\n",
            "[[1.  0.  0. ]\n",
            " [0.5 1.  0. ]\n",
            " [0.5 0.5 1. ]] \n",
            " [[ 2.  12.  -2. ]\n",
            " [ 0.  -8.   3. ]\n",
            " [ 0.   0.   0.5]]\n"
          ],
          "name": "stdout"
        }
      ]
    }
  ]
}